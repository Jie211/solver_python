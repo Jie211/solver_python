{
 "cells": [
  {
   "cell_type": "code",
   "execution_count": null,
   "id": "b73af5e1-6d46-4844-be31-9dbce5dbc046",
   "metadata": {
    "execution": {
     "iopub.execute_input": "2023-06-20T00:00:09.718954Z",
     "iopub.status.busy": "2023-06-20T00:00:09.717603Z",
     "iopub.status.idle": "2023-06-20T00:00:23.796540Z",
     "shell.execute_reply": "2023-06-20T00:00:23.795011Z",
     "shell.execute_reply.started": "2023-06-20T00:00:09.718900Z"
    },
    "tags": []
   },
   "outputs": [],
   "source": [
    "# cupy-cuda11xをインストールする\n",
    "!pip install rich scipy numpy numba plotly kaleido cupy-cuda11x"
   ]
  },
  {
   "cell_type": "code",
   "execution_count": null,
   "id": "ba308124-7a04-4962-837f-c3794e2dff2b",
   "metadata": {
    "execution": {
     "iopub.execute_input": "2023-06-20T01:23:01.952804Z",
     "iopub.status.busy": "2023-06-20T01:23:01.950070Z",
     "iopub.status.idle": "2023-06-20T01:27:57.035003Z",
     "shell.execute_reply": "2023-06-20T01:27:57.033224Z",
     "shell.execute_reply.started": "2023-06-20T01:23:01.952722Z"
    },
    "tags": []
   },
   "outputs": [],
   "source": [
    "## download matrix\n",
    "## 省略します"
   ]
  },
  {
   "cell_type": "code",
   "execution_count": 22,
   "id": "260bb8c6-d30e-4ff0-8f1b-909ea0494be0",
   "metadata": {
    "execution": {
     "iopub.execute_input": "2023-06-20T01:30:11.136663Z",
     "iopub.status.busy": "2023-06-20T01:30:11.134531Z",
     "iopub.status.idle": "2023-06-20T01:30:16.739220Z",
     "shell.execute_reply": "2023-06-20T01:30:16.737600Z",
     "shell.execute_reply.started": "2023-06-20T01:30:11.136583Z"
    },
    "tags": []
   },
   "outputs": [
    {
     "name": "stdout",
     "output_type": "stream",
     "text": [
      "対称性 = symmetric\n",
      "格納形式 = coo\n",
      "次元数 = 8181021601\n",
      "非ゼロ要素数 = 3753461\n",
      "ゼロ要素割合 = 99.954%\n",
      "行最大非ゼロ要素数 = 42\n",
      "行最小非ゼロ要素数 = 7\n",
      "行平均非ゼロ要素数 = 41\n",
      "最大要素数 = 3.2197282254561401e+03\n",
      "最小要素数 = -1.1507613278490601e+03\n",
      "未知ベクトルを1になるように右辺ベクトルを生成　完了\n"
     ]
    }
   ],
   "source": [
    "# 右辺ベクトル作成\n",
    "\n",
    "import numpy as np\n",
    "import scipy.io as sio\n",
    "\n",
    "target=\"./s3dkt3m2.mtx\"\n",
    "\n",
    "def save_sparse_csr(filename, mat, b_vec):\n",
    "    np.savez(filename,\n",
    "             data=mat.data,\n",
    "             indices=mat.indices,\n",
    "             indptr=mat.indptr,\n",
    "             b_vec=b_vec,\n",
    "             shape=mat.shape)\n",
    "\n",
    "(size_x, size_y, _, _, field, symmetry) = sio.mminfo(target)\n",
    "mat = sio.mmread(target)\n",
    "\n",
    "file_type = mat.getformat()\n",
    "min_all = mat.min()\n",
    "max_all = mat.max()\n",
    "nnz = mat.getnnz()\n",
    "nnz_row = mat.getnnz(1)\n",
    "min_nnz = min(nnz_row)\n",
    "max_nnz = max(nnz_row)\n",
    "ave_nnz = np.average(nnz_row)\n",
    "zero = float(size_x * size_x - nnz) / float(size_x * size_x) * 100.0\n",
    "\n",
    "print(\"対称性 = %s\" % symmetry)\n",
    "print(\"格納形式 = %s\" % file_type)\n",
    "if symmetry == \"symmetric\":\n",
    "    print(\"次元数 = %d\" % (size_x * size_x))\n",
    "else:\n",
    "    print(\"X-サイズ = %d\" % size_x)\n",
    "    print(\"Y-サイズ = %d\" % size_y)\n",
    "print(\"非ゼロ要素数 = %d\" % nnz)\n",
    "print(\"ゼロ要素割合 = %.3f%%\" % zero)\n",
    "print(\"行最大非ゼロ要素数 = %d\" % max_nnz)\n",
    "print(\"行最小非ゼロ要素数 = %d\" % min_nnz)\n",
    "print(\"行平均非ゼロ要素数 = %d\" % ave_nnz)\n",
    "print(\"最大要素数 = %.16e\" % max_all)\n",
    "print(\"最小要素数 = %.16e\" % min_all)\n",
    "\n",
    "mat_csr = mat.tocsr()\n",
    "x_vec = []\n",
    "for _i in range(mat_csr.shape[0]):\n",
    "    x_vec.append(1)\n",
    "b_vec = mat_csr.dot(x_vec)\n",
    "print(\"未知ベクトルを1になるように右辺ベクトルを生成　完了\")\n",
    "\n",
    "save_sparse_csr(target.replace(\".mtx\", \".npz\"), mat_csr, b_vec)\n"
   ]
  },
  {
   "cell_type": "code",
   "execution_count": 24,
   "id": "45a5f8e4-4469-496a-807c-a2a9f6a41b49",
   "metadata": {
    "execution": {
     "iopub.execute_input": "2023-06-20T03:16:04.421808Z",
     "iopub.status.busy": "2023-06-20T03:16:04.421036Z",
     "iopub.status.idle": "2023-06-20T04:31:42.235046Z",
     "shell.execute_reply": "2023-06-20T04:31:42.233761Z",
     "shell.execute_reply.started": "2023-06-20T03:16:04.421709Z"
    },
    "tags": []
   },
   "outputs": [
    {
     "name": "stdout",
     "output_type": "stream",
     "text": [
      "\u001B[2;36m[06/20/23 12:16:09]\u001B[0m\u001B[2;36m \u001B[0m\u001B[34mINFO    \u001B[0m \u001B[1m[\u001B[0m\u001B[1;36m2023\u001B[0m-\u001B[1;36m06\u001B[0m-\u001B[1;36m20\u001B[0m \u001B[1;92m12:16:09\u001B[0m,\u001B[1;36m726\u001B[0m\u001B[1m]\u001B[0m\u001B[1m[\u001B[0msolver\u001B[1m]\u001B[0m: INFO  \u001B]8;id=485915;file://main.py\u001B\\\u001B[2mmain.py\u001B[0m\u001B]8;;\u001B\\\u001B[2m:\u001B[0m\u001B]8;id=205226;file://main.py#23\u001B\\\u001B[2m23\u001B[0m\u001B]8;;\u001B\\\n",
      "\u001B[2;36m                    \u001B[0m         - mat_file: .\u001B[35m/matrix/\u001B[0m\u001B[95ms3dkt3m2.npz\u001B[0m,       \u001B[2m          \u001B[0m\n",
      "\u001B[2;36m                    \u001B[0m         max_inter: \u001B[1;36m400000\u001B[0m, epsilon:              \u001B[2m          \u001B[0m\n",
      "\u001B[2;36m                    \u001B[0m         \u001B[1;36m1.000000e-09\u001B[0m, numpy: \u001B[3;92mTrue\u001B[0m, numba: \u001B[3;91mFalse\u001B[0m, \u001B[2m          \u001B[0m\n",
      "\u001B[2;36m                    \u001B[0m         cupy: \u001B[3;91mFalse\u001B[0m                              \u001B[2m          \u001B[0m\n",
      "\u001B[2;36m                   \u001B[0m\u001B[2;36m \u001B[0m\u001B[34mINFO    \u001B[0m \u001B[1m[\u001B[0m\u001B[1;36m2023\u001B[0m-\u001B[1;36m06\u001B[0m-\u001B[1;36m20\u001B[0m \u001B[1;92m12:16:09\u001B[0m,\u001B[1;36m976\u001B[0m\u001B[1m]\u001B[0m\u001B[1m[\u001B[0msolver\u001B[1m]\u001B[0m: INFO  \u001B]8;id=68651;file://main.py\u001B\\\u001B[2mmain.py\u001B[0m\u001B]8;;\u001B\\\u001B[2m:\u001B[0m\u001B]8;id=1240;file://main.py#31\u001B\\\u001B[2m31\u001B[0m\u001B]8;;\u001B\\\n",
      "\u001B[2;36m                    \u001B[0m         - CG method                              \u001B[2m          \u001B[0m\n",
      "\u001B[2;36m                   \u001B[0m\u001B[2;36m \u001B[0m\u001B[34mINFO    \u001B[0m \u001B[1m[\u001B[0m\u001B[1;36m2023\u001B[0m-\u001B[1;36m06\u001B[0m-\u001B[1;36m20\u001B[0m \u001B[1;92m12:16:09\u001B[0m,\u001B[1;36m984\u001B[0m\u001B[1m]\u001B[0m\u001B[1m[\u001B[0msolver\u001B[1m]\u001B[0m: INFO  \u001B]8;id=966383;file://main.py\u001B\\\u001B[2mmain.py\u001B[0m\u001B]8;;\u001B\\\u001B[2m:\u001B[0m\u001B]8;id=469687;file://main.py#34\u001B\\\u001B[2m34\u001B[0m\u001B]8;;\u001B\\\n",
      "\u001B[2;36m                    \u001B[0m         - use numpy                              \u001B[2m          \u001B[0m\n",
      "\u001B[2;36m[06/20/23 13:31:41]\u001B[0m\u001B[2;36m \u001B[0m\u001B[34mINFO    \u001B[0m \u001B[1m[\u001B[0m\u001B[1;36m2023\u001B[0m-\u001B[1;36m06\u001B[0m-\u001B[1;36m20\u001B[0m \u001B[1;92m13:31:41\u001B[0m,\u001B[1;36m916\u001B[0m\u001B[1m]\u001B[0m\u001B[1m[\u001B[0msolver\u001B[1m]\u001B[0m: INFO  \u001B]8;id=357091;file://main.py\u001B\\\u001B[2mmain.py\u001B[0m\u001B]8;;\u001B\\\u001B[2m:\u001B[0m\u001B]8;id=910005;file://main.py#48\u001B\\\u001B[2m48\u001B[0m\u001B]8;;\u001B\\\n",
      "\u001B[2;36m                    \u001B[0m         - is_converged = \u001B[3;92mTrue\u001B[0m, loop = \u001B[1;36m347158\u001B[0m,    \u001B[2m          \u001B[0m\n",
      "\u001B[2;36m                    \u001B[0m         time = \u001B[1;36m4531\u001B[0m s                            \u001B[2m          \u001B[0m\n"
     ]
    }
   ],
   "source": [
    "!python main.py -cg -t s3dkt3m2 -imax 400000 -e 1e-9 -np"
   ]
  },
  {
   "cell_type": "code",
   "execution_count": 25,
   "id": "b222da63-c039-4d94-a9b4-8aabb2a2d343",
   "metadata": {
    "execution": {
     "iopub.execute_input": "2023-06-20T04:31:42.238649Z",
     "iopub.status.busy": "2023-06-20T04:31:42.238201Z",
     "iopub.status.idle": "2023-06-20T05:19:28.796251Z",
     "shell.execute_reply": "2023-06-20T05:19:28.795027Z",
     "shell.execute_reply.started": "2023-06-20T04:31:42.238619Z"
    },
    "tags": []
   },
   "outputs": [
    {
     "name": "stdout",
     "output_type": "stream",
     "text": [
      "\u001B[2;36m[06/20/23 13:31:45]\u001B[0m\u001B[2;36m \u001B[0m\u001B[34mINFO    \u001B[0m \u001B[1m[\u001B[0m\u001B[1;36m2023\u001B[0m-\u001B[1;36m06\u001B[0m-\u001B[1;36m20\u001B[0m \u001B[1;92m13:31:45\u001B[0m,\u001B[1;36m894\u001B[0m\u001B[1m]\u001B[0m\u001B[1m[\u001B[0msolver\u001B[1m]\u001B[0m: INFO  \u001B]8;id=611859;file://main.py\u001B\\\u001B[2mmain.py\u001B[0m\u001B]8;;\u001B\\\u001B[2m:\u001B[0m\u001B]8;id=374655;file://main.py#23\u001B\\\u001B[2m23\u001B[0m\u001B]8;;\u001B\\\n",
      "\u001B[2;36m                    \u001B[0m         - mat_file: .\u001B[35m/matrix/\u001B[0m\u001B[95ms3dkt3m2.npz\u001B[0m,       \u001B[2m          \u001B[0m\n",
      "\u001B[2;36m                    \u001B[0m         max_inter: \u001B[1;36m400000\u001B[0m, epsilon:              \u001B[2m          \u001B[0m\n",
      "\u001B[2;36m                    \u001B[0m         \u001B[1;36m1.000000e-09\u001B[0m, numpy: \u001B[3;91mFalse\u001B[0m, numba: \u001B[3;92mTrue\u001B[0m, \u001B[2m          \u001B[0m\n",
      "\u001B[2;36m                    \u001B[0m         cupy: \u001B[3;91mFalse\u001B[0m                              \u001B[2m          \u001B[0m\n",
      "\u001B[2;36m[06/20/23 13:31:46]\u001B[0m\u001B[2;36m \u001B[0m\u001B[34mINFO    \u001B[0m \u001B[1m[\u001B[0m\u001B[1;36m2023\u001B[0m-\u001B[1;36m06\u001B[0m-\u001B[1;36m20\u001B[0m \u001B[1;92m13:31:46\u001B[0m,\u001B[1;36m096\u001B[0m\u001B[1m]\u001B[0m\u001B[1m[\u001B[0msolver\u001B[1m]\u001B[0m: INFO  \u001B]8;id=540348;file://main.py\u001B\\\u001B[2mmain.py\u001B[0m\u001B]8;;\u001B\\\u001B[2m:\u001B[0m\u001B]8;id=215589;file://main.py#31\u001B\\\u001B[2m31\u001B[0m\u001B]8;;\u001B\\\n",
      "\u001B[2;36m                    \u001B[0m         - CG method                              \u001B[2m          \u001B[0m\n",
      "\u001B[2;36m[06/20/23 14:19:28]\u001B[0m\u001B[2;36m \u001B[0m\u001B[34mINFO    \u001B[0m \u001B[1m[\u001B[0m\u001B[1;36m2023\u001B[0m-\u001B[1;36m06\u001B[0m-\u001B[1;36m20\u001B[0m \u001B[1;92m14:19:28\u001B[0m,\u001B[1;36m286\u001B[0m\u001B[1m]\u001B[0m\u001B[1m[\u001B[0msolver\u001B[1m]\u001B[0m: INFO  \u001B]8;id=467496;file://main.py\u001B\\\u001B[2mmain.py\u001B[0m\u001B]8;;\u001B\\\u001B[2m:\u001B[0m\u001B]8;id=57584;file://main.py#48\u001B\\\u001B[2m48\u001B[0m\u001B]8;;\u001B\\\n",
      "\u001B[2;36m                    \u001B[0m         - is_converged = \u001B[3;92mTrue\u001B[0m, loop = \u001B[1;36m352312\u001B[0m,    \u001B[2m          \u001B[0m\n",
      "\u001B[2;36m                    \u001B[0m         time = \u001B[1;36m2862\u001B[0m s                            \u001B[2m          \u001B[0m\n",
      "\u001B[0m"
     ]
    }
   ],
   "source": [
    "!NUMBA_NUM_THREADS=2 python main.py -cg -t s3dkt3m2 -imax 400000 -e 1e-9 -nb"
   ]
  },
  {
   "cell_type": "code",
   "execution_count": 26,
   "id": "6431af7a-d30f-44ab-95eb-1536cb58fca5",
   "metadata": {
    "execution": {
     "iopub.execute_input": "2023-06-20T05:19:28.798412Z",
     "iopub.status.busy": "2023-06-20T05:19:28.797989Z",
     "iopub.status.idle": "2023-06-20T05:52:07.007005Z",
     "shell.execute_reply": "2023-06-20T05:52:07.005933Z",
     "shell.execute_reply.started": "2023-06-20T05:19:28.798378Z"
    },
    "tags": []
   },
   "outputs": [
    {
     "name": "stdout",
     "output_type": "stream",
     "text": [
      "\u001B[2;36m[06/20/23 14:19:31]\u001B[0m\u001B[2;36m \u001B[0m\u001B[34mINFO    \u001B[0m \u001B[1m[\u001B[0m\u001B[1;36m2023\u001B[0m-\u001B[1;36m06\u001B[0m-\u001B[1;36m20\u001B[0m \u001B[1;92m14:19:31\u001B[0m,\u001B[1;36m926\u001B[0m\u001B[1m]\u001B[0m\u001B[1m[\u001B[0msolver\u001B[1m]\u001B[0m: INFO  \u001B]8;id=625599;file://main.py\u001B\\\u001B[2mmain.py\u001B[0m\u001B]8;;\u001B\\\u001B[2m:\u001B[0m\u001B]8;id=85146;file://main.py#23\u001B\\\u001B[2m23\u001B[0m\u001B]8;;\u001B\\\n",
      "\u001B[2;36m                    \u001B[0m         - mat_file: .\u001B[35m/matrix/\u001B[0m\u001B[95ms3dkt3m2.npz\u001B[0m,       \u001B[2m          \u001B[0m\n",
      "\u001B[2;36m                    \u001B[0m         max_inter: \u001B[1;36m400000\u001B[0m, epsilon:              \u001B[2m          \u001B[0m\n",
      "\u001B[2;36m                    \u001B[0m         \u001B[1;36m1.000000e-09\u001B[0m, numpy: \u001B[3;91mFalse\u001B[0m, numba: \u001B[3;92mTrue\u001B[0m, \u001B[2m          \u001B[0m\n",
      "\u001B[2;36m                    \u001B[0m         cupy: \u001B[3;91mFalse\u001B[0m                              \u001B[2m          \u001B[0m\n",
      "\u001B[2;36m[06/20/23 14:19:32]\u001B[0m\u001B[2;36m \u001B[0m\u001B[34mINFO    \u001B[0m \u001B[1m[\u001B[0m\u001B[1;36m2023\u001B[0m-\u001B[1;36m06\u001B[0m-\u001B[1;36m20\u001B[0m \u001B[1;92m14:19:32\u001B[0m,\u001B[1;36m139\u001B[0m\u001B[1m]\u001B[0m\u001B[1m[\u001B[0msolver\u001B[1m]\u001B[0m: INFO  \u001B]8;id=202499;file://main.py\u001B\\\u001B[2mmain.py\u001B[0m\u001B]8;;\u001B\\\u001B[2m:\u001B[0m\u001B]8;id=412032;file://main.py#31\u001B\\\u001B[2m31\u001B[0m\u001B]8;;\u001B\\\n",
      "\u001B[2;36m                    \u001B[0m         - CG method                              \u001B[2m          \u001B[0m\n",
      "\u001B[2;36m[06/20/23 14:52:06]\u001B[0m\u001B[2;36m \u001B[0m\u001B[34mINFO    \u001B[0m \u001B[1m[\u001B[0m\u001B[1;36m2023\u001B[0m-\u001B[1;36m06\u001B[0m-\u001B[1;36m20\u001B[0m \u001B[1;92m14:52:06\u001B[0m,\u001B[1;36m508\u001B[0m\u001B[1m]\u001B[0m\u001B[1m[\u001B[0msolver\u001B[1m]\u001B[0m: INFO  \u001B]8;id=761977;file://main.py\u001B\\\u001B[2mmain.py\u001B[0m\u001B]8;;\u001B\\\u001B[2m:\u001B[0m\u001B]8;id=631702;file://main.py#48\u001B\\\u001B[2m48\u001B[0m\u001B]8;;\u001B\\\n",
      "\u001B[2;36m                    \u001B[0m         - is_converged = \u001B[3;92mTrue\u001B[0m, loop = \u001B[1;36m344881\u001B[0m,    \u001B[2m          \u001B[0m\n",
      "\u001B[2;36m                    \u001B[0m         time = \u001B[1;36m1954\u001B[0m s                            \u001B[2m          \u001B[0m\n",
      "\u001B[0m"
     ]
    }
   ],
   "source": [
    "!NUMBA_NUM_THREADS=4 python main.py -cg -t s3dkt3m2 -imax 400000 -e 1e-9 -nb"
   ]
  },
  {
   "cell_type": "code",
   "execution_count": 27,
   "id": "563f64eb-adb0-416c-b26d-cc0ed2df55c0",
   "metadata": {
    "execution": {
     "iopub.execute_input": "2023-06-20T05:52:07.009281Z",
     "iopub.status.busy": "2023-06-20T05:52:07.008898Z",
     "iopub.status.idle": "2023-06-20T05:57:19.283758Z",
     "shell.execute_reply": "2023-06-20T05:57:19.282508Z",
     "shell.execute_reply.started": "2023-06-20T05:52:07.009252Z"
    },
    "tags": []
   },
   "outputs": [
    {
     "name": "stdout",
     "output_type": "stream",
     "text": [
      "\u001B[2;36m[06/20/23 14:52:10]\u001B[0m\u001B[2;36m \u001B[0m\u001B[34mINFO    \u001B[0m \u001B[1m[\u001B[0m\u001B[1;36m2023\u001B[0m-\u001B[1;36m06\u001B[0m-\u001B[1;36m20\u001B[0m \u001B[1;92m14:52:10\u001B[0m,\u001B[1;36m719\u001B[0m\u001B[1m]\u001B[0m\u001B[1m[\u001B[0msolver\u001B[1m]\u001B[0m: INFO  \u001B]8;id=47623;file://main.py\u001B\\\u001B[2mmain.py\u001B[0m\u001B]8;;\u001B\\\u001B[2m:\u001B[0m\u001B]8;id=518428;file://main.py#23\u001B\\\u001B[2m23\u001B[0m\u001B]8;;\u001B\\\n",
      "\u001B[2;36m                    \u001B[0m         - mat_file: .\u001B[35m/matrix/\u001B[0m\u001B[95ms3dkt3m2.npz\u001B[0m,       \u001B[2m          \u001B[0m\n",
      "\u001B[2;36m                    \u001B[0m         max_inter: \u001B[1;36m400000\u001B[0m, epsilon:              \u001B[2m          \u001B[0m\n",
      "\u001B[2;36m                    \u001B[0m         \u001B[1;36m1.000000e-09\u001B[0m, numpy: \u001B[3;91mFalse\u001B[0m, numba:       \u001B[2m          \u001B[0m\n",
      "\u001B[2;36m                    \u001B[0m         \u001B[3;91mFalse\u001B[0m, cupy: \u001B[3;92mTrue\u001B[0m                        \u001B[2m          \u001B[0m\n",
      "\u001B[2;36m[06/20/23 14:52:11]\u001B[0m\u001B[2;36m \u001B[0m\u001B[34mINFO    \u001B[0m \u001B[1m[\u001B[0m\u001B[1;36m2023\u001B[0m-\u001B[1;36m06\u001B[0m-\u001B[1;36m20\u001B[0m \u001B[1;92m14:52:11\u001B[0m,\u001B[1;36m425\u001B[0m\u001B[1m]\u001B[0m\u001B[1m[\u001B[0msolver\u001B[1m]\u001B[0m: INFO  \u001B]8;id=510249;file://main.py\u001B\\\u001B[2mmain.py\u001B[0m\u001B]8;;\u001B\\\u001B[2m:\u001B[0m\u001B]8;id=675858;file://main.py#31\u001B\\\u001B[2m31\u001B[0m\u001B]8;;\u001B\\\n",
      "\u001B[2;36m                    \u001B[0m         - CG method                              \u001B[2m          \u001B[0m\n",
      "\u001B[2;36m[06/20/23 14:57:18]\u001B[0m\u001B[2;36m \u001B[0m\u001B[34mINFO    \u001B[0m \u001B[1m[\u001B[0m\u001B[1;36m2023\u001B[0m-\u001B[1;36m06\u001B[0m-\u001B[1;36m20\u001B[0m \u001B[1;92m14:57:18\u001B[0m,\u001B[1;36m462\u001B[0m\u001B[1m]\u001B[0m\u001B[1m[\u001B[0msolver\u001B[1m]\u001B[0m: INFO  \u001B]8;id=27357;file://main.py\u001B\\\u001B[2mmain.py\u001B[0m\u001B]8;;\u001B\\\u001B[2m:\u001B[0m\u001B]8;id=565192;file://main.py#48\u001B\\\u001B[2m48\u001B[0m\u001B]8;;\u001B\\\n",
      "\u001B[2;36m                    \u001B[0m         - is_converged = \u001B[3;92mTrue\u001B[0m, loop = \u001B[1;36m347218\u001B[0m,    \u001B[2m          \u001B[0m\n",
      "\u001B[2;36m                    \u001B[0m         time = \u001B[1;36m307\u001B[0m s                             \u001B[2m          \u001B[0m\n"
     ]
    }
   ],
   "source": [
    "!python main.py -cg -t s3dkt3m2 -imax 400000 -e 1e-9 -cp"
   ]
  },
  {
   "cell_type": "code",
   "execution_count": null,
   "id": "0866198b-22c6-4110-86e8-363dc4a14736",
   "metadata": {},
   "outputs": [],
   "source": []
  }
 ],
 "metadata": {
  "kernelspec": {
   "display_name": "Python 3 (ipykernel)",
   "language": "python",
   "name": "python3"
  },
  "language_info": {
   "codemirror_mode": {
    "name": "ipython",
    "version": 3
   },
   "file_extension": ".py",
   "mimetype": "text/x-python",
   "name": "python",
   "nbconvert_exporter": "python",
   "pygments_lexer": "ipython3",
   "version": "3.8.10"
  }
 },
 "nbformat": 4,
 "nbformat_minor": 5
}
